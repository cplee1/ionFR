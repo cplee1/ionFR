{
 "cells": [
  {
   "cell_type": "code",
   "execution_count": null,
   "metadata": {},
   "outputs": [],
   "source": [
    "# Simple plot to view ionFR output\n",
    "import numpy as np\n",
    "import matplotlib.pyplot as plt"
   ]
  },
  {
   "cell_type": "code",
   "execution_count": null,
   "metadata": {},
   "outputs": [],
   "source": [
    "# Read text file output IonRM.txt\n",
    "hour, tec, bfield, rm_ion, rm_ion_err = np.loadtxt('IonRM.txt', unpack=True)\n",
    "print(f'{len(hour)} measurements imported')"
   ]
  },
  {
   "cell_type": "code",
   "execution_count": null,
   "metadata": {},
   "outputs": [],
   "source": [
    "# Plot numbers from text file\n",
    "fig = plt.figure(figsize=(8,6), dpi=250)\n",
    "params = {'text.usetex': True, 'axes.labelsize': 18, 'font.size': 18}\n",
    "plt.rcParams.update(params)\n",
    "\n",
    "plt.errorbar(hour, rm_ion, yerr=rm_ion_err, fmt='ro', ms=5)\n",
    "plt.xlabel('$\\mathrm{Time~(h~UT)}$', fontsize=20)\n",
    "plt.ylabel('$\\mathrm{RM_{ion}~(rad~m^{-2})}$', fontsize=20)\n",
    "plt.savefig('plot_ionFR_output.png', bbox_inches='tight')"
   ]
  }
 ],
 "metadata": {
  "kernelspec": {
   "display_name": "Python 3",
   "language": "python",
   "name": "python3"
  },
  "language_info": {
   "codemirror_mode": {
    "name": "ipython",
    "version": 2
   },
   "file_extension": ".py",
   "mimetype": "text/x-python",
   "name": "python",
   "nbconvert_exporter": "python",
   "pygments_lexer": "ipython2",
   "version": "3.8.10"
  }
 },
 "nbformat": 4,
 "nbformat_minor": 2
}
